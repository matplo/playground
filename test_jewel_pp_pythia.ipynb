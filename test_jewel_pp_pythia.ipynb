{
 "cells": [
  {
   "cell_type": "code",
   "execution_count": 1,
   "id": "0b5a7f8d",
   "metadata": {},
   "outputs": [
    {
     "name": "stdout",
     "output_type": "stream",
     "text": [
      "Longitudinally invariant anti-kt algorithm with R = 0.4 and E scheme recombination\n"
     ]
    }
   ],
   "source": [
    "import fastjet as fj\n",
    "jet_R0 = 0.4\n",
    "jet_def = fj.JetDefinition(fj.antikt_algorithm, jet_R0)\n",
    "print(jet_def)\n",
    "max_eta_hadron=1\n",
    "parts_selector_h = fj.SelectorAbsEtaMax(max_eta_hadron)\n",
    "jet_selector = fj.SelectorAbsEtaMax(max_eta_hadron - jet_R0 * 1.05)"
   ]
  },
  {
   "cell_type": "code",
   "execution_count": 2,
   "id": "bfbe6e8a",
   "metadata": {},
   "outputs": [],
   "source": [
    "import hepmc2wrap\n",
    "hepmcfile='/rstorage/ml/egml/data/jewel_pp/686906/1/jewel.hepmc'"
   ]
  },
  {
   "cell_type": "code",
   "execution_count": 3,
   "id": "a31ca7ab",
   "metadata": {},
   "outputs": [
    {
     "name": "stdout",
     "output_type": "stream",
     "text": [
      "Welcome to JupyROOT 6.18/04\n",
      "[i] found 4000 files\n"
     ]
    }
   ],
   "source": [
    "from pyjetty.mputils import find_files\n",
    "files = find_files('/rstorage/ml/egml/data/jewel_pp', '*.hepmc')\n",
    "print('[i] found {} files'.format(len(files)))"
   ]
  },
  {
   "cell_type": "code",
   "execution_count": 4,
   "id": "f30395f5",
   "metadata": {},
   "outputs": [
    {
     "data": {
      "application/vnd.jupyter.widget-view+json": {
       "model_id": "ac5b8cb7e0dc47dd94585eca237187f5",
       "version_major": 2,
       "version_minor": 0
      },
      "text/plain": [
       "HBox(children=(FloatProgress(value=0.0, max=3.0), HTML(value='')))"
      ]
     },
     "metadata": {},
     "output_type": "display_data"
    },
    {
     "name": "stdout",
     "output_type": "stream",
     "text": [
      "\n",
      "#--------------------------------------------------------------------------\n",
      "#                         FastJet release 3.3.3\n",
      "#                 M. Cacciari, G.P. Salam and G. Soyez                  \n",
      "#     A software package for jet finding and analysis at colliders      \n",
      "#                           http://fastjet.fr                           \n",
      "#\t                                                                      \n",
      "# Please cite EPJC72(2012)1896 [arXiv:1111.6097] if you use this package\n",
      "# for scientific work and optionally PLB641(2006)57 [hep-ph/0512210].   \n",
      "#                                                                       \n",
      "# FastJet is provided without warranty under the GNU GPL v2 or higher.  \n",
      "# It uses T. Chan's closest pair algorithm, S. Fortune's Voronoi code\n",
      "# and 3rd party plugin jet algorithms. See COPYING file for details.\n",
      "#--------------------------------------------------------------------------\n"
     ]
    }
   ],
   "source": [
    "from tqdm.notebook import tqdm\n",
    "jets = []\n",
    "for hepmcile in tqdm(files[:3]):\n",
    "    input_hepmc = hepmc2wrap.ReadHepMCFile(hepmcfile)\n",
    "    final = True\n",
    "    while input_hepmc.NextEvent():\n",
    "        fjparts = []\n",
    "        parts = input_hepmc.HepMCParticles(final)\n",
    "        for part in parts:\n",
    "            pid = part.pdg_id()\n",
    "            psj = fj.PseudoJet(part.momentum().px(), part.momentum().py(), part.momentum().pz(), part.momentum().e())\n",
    "            fjparts.append(psj)\n",
    "            fjparts_sel = parts_selector_h(fjparts)\n",
    "        # print('mult:', len(parts), len(fjparts_sel))\n",
    "        _ = [jets.append(j) for j in jet_selector(jet_def(fjparts_sel))]"
   ]
  },
  {
   "cell_type": "code",
   "execution_count": 5,
   "id": "542d22e0",
   "metadata": {},
   "outputs": [],
   "source": [
    "import matplotlib.pyplot as plt"
   ]
  },
  {
   "cell_type": "code",
   "execution_count": 6,
   "id": "b5a2e018",
   "metadata": {},
   "outputs": [],
   "source": [
    "def plot_jets(jets):\n",
    "    n, bins, patches = plt.hist([j.pt() for j in jets], 10, density=1, facecolor='g', alpha=0.75, log=True)\n",
    "    plt.ylabel('probability density')\n",
    "    plt.show()\n",
    "    zs = []\n",
    "    njets = 0\n",
    "    for j in jets:\n",
    "        if j.pt() > 200 and j.pt() <  250:\n",
    "            for c in j.constituents():\n",
    "                zs.append(c.pt() / j.pt())\n",
    "            njets = njets + 1\n",
    "    n, bins, patches = plt.hist(zs, 10, density=True, facecolor='r', alpha=0.75, log=True)\n",
    "    plt.ylabel('probability density')\n",
    "    plt.show()\n",
    "    return njets, zs"
   ]
  },
  {
   "cell_type": "code",
   "execution_count": 7,
   "id": "770ba192",
   "metadata": {},
   "outputs": [
    {
     "data": {
      "image/png": "[encoded data removed]",
      "text/plain": [
       "<Figure size 432x288 with 1 Axes>"
      ]
     },
     "metadata": {
      "needs_background": "light"
     },
     "output_type": "display_data"
    },
    {
     "data": {
      "image/png": "[encoded data removed]",
      "text/plain": [
       "<Figure size 432x288 with 1 Axes>"
      ]
     },
     "metadata": {
      "needs_background": "light"
     },
     "output_type": "display_data"
    }
   ],
   "source": [
    "njets_hepmc, zs_hepmc = plot_jets(jets)"
   ]
  },
  {
   "cell_type": "code",
   "execution_count": 8,
   "id": "42a92495",
   "metadata": {},
   "outputs": [],
   "source": [
    "import pythia_init_util as pyut\n",
    "import pythiafjext"
   ]
  },
  {
   "cell_type": "code",
   "execution_count": 9,
   "id": "4becce0b",
   "metadata": {},
   "outputs": [
    {
     "name": "stdout",
     "output_type": "stream",
     "text": [
      "['HardQCD:all=on', 'PhaseSpace:pTHatMin = 200.0', 'Beams:eCM = 5000.0']\n",
      "[i] strings read to PYTHIA  [['HardQCD:all=on', 'PhaseSpace:pTHatMin = 200.0', 'Beams:eCM = 5000.0', 'Next:numberCount = 0', 'Next:numberShowEvent = 0', 'Next:numberShowInfo = 0', 'Next:numberShowProcess = 0', 'Stat:showProcessLevel = on']]\n",
      "[i] pythia initialized with ['HardQCD:all=on', 'PhaseSpace:pTHatMin = 200.0', 'Beams:eCM = 5000.0', 'Next:numberCount = 0', 'Next:numberShowEvent = 0', 'Next:numberShowInfo = 0', 'Next:numberShowProcess = 0', 'Stat:showProcessLevel = on']\n",
      "\n",
      " *------------------------------------------------------------------------------------* \n",
      " |                                                                                    | \n",
      " |  *------------------------------------------------------------------------------*  | \n",
      " |  |                                                                              |  | \n",
      " |  |                                                                              |  | \n",
      " |  |   PPP   Y   Y  TTTTT  H   H  III    A      Welcome to the Lund Monte Carlo!  |  | \n",
      " |  |   P  P   Y Y     T    H   H   I    A A     This is PYTHIA version 8.244      |  | \n",
      " |  |   PPP     Y      T    HHHHH   I   AAAAA    Last date of change: 20 Dec 2019  |  | \n",
      " |  |   P       Y      T    H   H   I   A   A                                      |  | \n",
      " |  |   P       Y      T    H   H  III  A   A    Now is 01 Oct 2021 at 17:57:05    |  | \n",
      " |  |                                                                              |  | \n",
      " |  |   Christian Bierlich;  Department of Astronomy and Theoretical Physics,      |  | \n",
      " |  |      Lund University, Solvegatan 14A, SE-223 62 Lund, Sweden;                |  | \n",
      " |  |      e-mail: christian.bierlich@thep.lu.se                                   |  | \n",
      " |  |   Nishita Desai;  Department of Theoretical Physics, Tata Institute,         |  | \n",
      " |  |      Homi Bhabha Road, Mumbai 400005, India;                                 |  | \n",
      " |  |      e-mail: desai@theory.tifr.res.in                                        |  | \n",
      " |  |   Ilkka Helenius;  Department of Physics, University of Jyvaskyla,           |  | \n",
      " |  |      P.O. Box 35, FI-40014 University of Jyvaskyla, Finland;                 |  | \n",
      " |  |      e-mail: ilkka.m.helenius@jyu.fi                                         |  | \n",
      " |  |   Philip Ilten;  School of Physics and Astronomy,                            |  | \n",
      " |  |      University of Birmingham, Birmingham, B152 2TT, UK;                     |  | \n",
      " |  |      e-mail: philten@cern.ch                                                 |  | \n",
      " |  |   Leif Lonnblad;  Department of Astronomy and Theoretical Physics,           |  | \n",
      " |  |      Lund University, Solvegatan 14A, SE-223 62 Lund, Sweden;                |  | \n",
      " |  |      e-mail: leif.lonnblad@thep.lu.se                                        |  | \n",
      " |  |   Stephen Mrenna;  Computing Division, Simulations Group,                    |  | \n",
      " |  |      Fermi National Accelerator Laboratory, MS 234, Batavia, IL 60510, USA;  |  | \n",
      " |  |      e-mail: mrenna@fnal.gov                                                 |  | \n",
      " |  |   Stefan Prestel;  Department of Astronomy and Theoretical Physics,          |  | \n",
      " |  |      Lund University, Solvegatan 14A, SE-223 62 Lund, Sweden;                |  | \n",
      " |  |      e-mail: stefan.prestel@thep.lu.se                                       |  | \n",
      " |  |   Christine O. Rasmussen;  Department of Astronomy and Theoretical Physics,  |  | \n",
      " |  |      Lund University, Solvegatan 14A, SE-223 62 Lund, Sweden;                |  | \n",
      " |  |      e-mail: christine.rasmussen@thep.lu.se                                  |  | \n",
      " |  |   Torbjorn Sjostrand;  Department of Astronomy and Theoretical Physics,      |  | \n",
      " |  |      Lund University, Solvegatan 14A, SE-223 62 Lund, Sweden;                |  | \n",
      " |  |      e-mail: torbjorn@thep.lu.se                                             |  | \n",
      " |  |   Peter Skands;  School of Physics,                                          |  | \n",
      " |  |      Monash University, PO Box 27, 3800 Melbourne, Australia;                |  | \n",
      " |  |      e-mail: peter.skands@monash.edu                                         |  | \n",
      " |  |                                                                              |  | \n",
      " |  |   The main program reference is 'An Introduction to PYTHIA 8.2',             |  | \n",
      " |  |   T. Sjostrand et al, Comput. Phys. Commun. 191 (2015) 159                   |  | \n",
      " |  |   [arXiv:1410.3012 [hep-ph]]                                                 |  | \n",
      " |  |                                                                              |  | \n",
      " |  |   The main physics reference is the 'PYTHIA 6.4 Physics and Manual',         |  | \n",
      " |  |   T. Sjostrand, S. Mrenna and P. Skands, JHEP05 (2006) 026 [hep-ph/0603175]  |  | \n",
      " |  |                                                                              |  | \n",
      " |  |   An archive of program versions and documentation is found on the web:      |  | \n",
      " |  |   http://www.thep.lu.se/Pythia                                               |  | \n",
      " |  |                                                                              |  | \n",
      " |  |   This program is released under the GNU General Public Licence version 2.   |  | \n",
      " |  |   Please respect the MCnet Guidelines for Event Generator Authors and Users. |  | \n",
      " |  |                                                                              |  | \n",
      " |  |   Disclaimer: this program comes without any guarantees.                     |  | \n",
      " |  |   Beware of errors and use common sense when interpreting results.           |  | \n",
      " |  |                                                                              |  | \n",
      " |  |   Copyright (C) 2019 Torbjorn Sjostrand                                      |  | \n",
      " |  |                                                                              |  | \n",
      " |  |                                                                              |  | \n",
      " |  *------------------------------------------------------------------------------*  | \n",
      " |                                                                                    | \n",
      " *------------------------------------------------------------------------------------* \n",
      "\n",
      "\n",
      " *-------  PYTHIA Process Initialization  --------------------------*\n",
      " |                                                                  |\n",
      " | We collide p+ with p+ at a CM energy of 5.000e+03 GeV            |\n",
      " |                                                                  |\n",
      " |------------------------------------------------------------------|\n",
      " |                                                    |             |\n",
      " | Subprocess                                    Code |   Estimated |\n",
      " |                                                    |    max (mb) |\n",
      " |                                                    |             |\n",
      " |------------------------------------------------------------------|\n",
      " |                                                    |             |\n",
      " | g g -> g g                                     111 |   7.422e-06 |\n",
      " | g g -> q qbar (uds)                            112 |   1.711e-07 |\n",
      " | q g -> q g                                     113 |   2.114e-05 |\n",
      " | q q(bar)' -> q q(bar)'                         114 |   7.513e-06 |\n",
      " | q qbar -> g g                                  115 |   6.237e-08 |\n",
      " | q qbar -> q' qbar' (uds)                       116 |   4.040e-08 |\n",
      " | g g -> c cbar                                  121 |   5.703e-08 |\n",
      " | q qbar -> c cbar                               122 |   1.346e-08 |\n",
      " | g g -> b bbar                                  123 |   5.695e-08 |\n",
      " | q qbar -> b bbar                               124 |   1.345e-08 |\n",
      " |                                                                  |\n",
      " *-------  End PYTHIA Process Initialization -----------------------*\n",
      "\n",
      " *-------  PYTHIA Multiparton Interactions Initialization  ---------* \n",
      " |                                                                  | \n",
      " |                   sigmaNonDiffractive =    47.69 mb              | \n",
      " |                                                                  | \n",
      " |    pT0 =  2.12 gives sigmaInteraction =   208.57 mb: accepted    | \n",
      " |                                                                  | \n",
      " *-------  End PYTHIA Multiparton Interactions Initialization  -----* \n",
      "\n",
      " *-------  PYTHIA Flag + Mode + Parm + Word + FVec + MVec + PVec + WVec Settings (changes only)  ------------------* \n",
      " |                                                                                                                 | \n",
      " | Name                                          |                      Now |      Default         Min         Max | \n",
      " |                                               |                          |                                      | \n",
      " | Beams:eCM                                     |                 5000.000 |    14000.000    10.00000             | \n",
      " | HardQCD:all                                   |                       on |          off                         | \n",
      " | Next:numberCount                              |                        0 |         1000           0             | \n",
      " | Next:numberShowEvent                          |                        0 |            1           0             | \n",
      " | Next:numberShowInfo                           |                        0 |            1           0             | \n",
      " | Next:numberShowProcess                        |                        0 |            1           0             | \n",
      " | PhaseSpace:pTHatMin                           |                200.00000 |          0.0         0.0             | \n",
      " |                                                                                                                 | \n",
      " *-------  End PYTHIA Flag + Mode + Parm + Word + FVec + MVec + PVec + WVec Settings  -----------------------------* \n",
      "\n",
      " --------  PYTHIA Particle Data Table (changed only)  ------------------------------------------------------------------------------\n",
      " \n",
      "      id   name            antiName         spn chg col      m0        mWidth      mMin       mMax       tau0    res dec ext vis wid\n",
      "             no onMode   bRatio   meMode     products \n",
      "\n",
      " no particle data has been changed from its default value \n",
      "\n",
      " --------  End PYTHIA Particle Data Table  -----------------------------------------------------------------------------------------\n",
      "\n"
     ]
    }
   ],
   "source": [
    "pythia = pyut.pythia_init_from_string(\"--py-ecm 5000 --user-seed=100000 --nev 1000 --py-pthatmin 200 --py-hardQCD\")"
   ]
  },
  {
   "cell_type": "code",
   "execution_count": 10,
   "id": "d3cb70ee",
   "metadata": {},
   "outputs": [
    {
     "data": {
      "application/vnd.jupyter.widget-view+json": {
       "model_id": "50fa4ca257304a8db6def1ffad35c527",
       "version_major": 2,
       "version_minor": 0
      },
      "text/plain": [
       "HBox(children=(FloatProgress(value=0.0, max=1000.0), HTML(value='')))"
      ]
     },
     "metadata": {},
     "output_type": "display_data"
    },
    {
     "name": "stdout",
     "output_type": "stream",
     "text": [
      "\n",
      " PYTHIA Warning in StringFragmentation::fragmentToJunction: bad convergence junction rest frame  \n",
      " PYTHIA Error in StringFragmentation::fragment: stuck in joining  \n",
      " PYTHIA Error in Pythia::next: hadronLevel failed; try again  \n"
     ]
    }
   ],
   "source": [
    "pyjets = []\n",
    "for n in tqdm(range(1000)):\n",
    "    if not pythia.next():\n",
    "        continue\n",
    "    parts_pythia_h = parts_selector_h(pythiafjext.vectorize_select(pythia, [pythiafjext.kFinal], 0, False))\n",
    "    jets_h = fj.sorted_by_pt(jet_selector(jet_def(parts_pythia_h)))\n",
    "    _ = [pyjets.append(j) for j in jets_h]"
   ]
  },
  {
   "cell_type": "code",
   "execution_count": 11,
   "id": "b04373bc",
   "metadata": {
    "scrolled": false
   },
   "outputs": [
    {
     "data": {
      "image/png": "[encoded data removed]",
      "text/plain": [
       "<Figure size 432x288 with 1 Axes>"
      ]
     },
     "metadata": {
      "needs_background": "light"
     },
     "output_type": "display_data"
    },
    {
     "data": {
      "image/png": "[encoded data removed]",
      "text/plain": [
       "<Figure size 432x288 with 1 Axes>"
      ]
     },
     "metadata": {
      "needs_background": "light"
     },
     "output_type": "display_data"
    }
   ],
   "source": [
    "njets_pythia, zs_pythia = plot_jets(pyjets)"
   ]
  },
  {
   "cell_type": "code",
   "execution_count": 12,
   "id": "f6cc9b9d",
   "metadata": {},
   "outputs": [
    {
     "data": {
      "image/png": "[encoded data removed]",
      "text/plain": [
       "<Figure size 432x288 with 1 Axes>"
      ]
     },
     "metadata": {
      "needs_background": "light"
     },
     "output_type": "display_data"
    }
   ],
   "source": [
    "n, bins, patches = plt.hist([zs_hepmc, zs_pythia], \n",
    "                            20, \n",
    "                            label=['HEPMC', 'PYTHIA8'],\n",
    "                            density=[True, True], \n",
    "                            alpha=0.75, log=True, histtype='step')\n",
    "plt.ylabel('probability density')\n",
    "plt.xlabel('z')\n",
    "plt.title('jets 200-250 GeV/c')\n",
    "plt.legend()\n",
    "plt.show()"
   ]
  }
 ],
 "metadata": {
  "kernelspec": {
   "display_name": "Python 3",
   "language": "python",
   "name": "python3"
  },
  "language_info": {
   "codemirror_mode": {
    "name": "ipython",
    "version": 3
   },
   "file_extension": ".py",
   "mimetype": "text/x-python",
   "name": "python",
   "nbconvert_exporter": "python",
   "pygments_lexer": "ipython3",
   "version": "3.6.8"
  }
 },
 "nbformat": 4,
 "nbformat_minor": 5
}
