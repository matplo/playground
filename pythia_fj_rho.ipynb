{
 "cells": [
  {
   "cell_type": "code",
   "execution_count": 1,
   "id": "2a74af52-d490-47bc-87ce-e0faa287b56c",
   "metadata": {},
   "outputs": [],
   "source": [
    "import yasp"
   ]
  },
  {
   "cell_type": "code",
   "execution_count": 2,
   "id": "257493d5-65e7-4278-80fc-188f15948d26",
   "metadata": {},
   "outputs": [
    {
     "name": "stderr",
     "output_type": "stream",
     "text": [
      "/Users/ploskon/devel/yasp/software/root/6.28.00/lib/cppyy_backend/loader.py:90: UserWarning: No precompiled header available (/Users/ploskon/devel/yasp/software/root/6.28.00/lib/cppyy_backend/etc not writable); this may impact performance.\n",
      "  warnings.warn('No precompiled header available (%s); this may impact performance.' % msg)\n",
      "[i] Creating YaspCppyyHelper singleton.\n"
     ]
    },
    {
     "name": "stdout",
     "output_type": "stream",
     "text": [
      "[i] cppyyhelper (4405887696)\n",
      "   loaded_packages = ['fastjet']\n",
      "   loaded_libs = ['fastjet', 'LundPlane', 'EnergyCorrelator']\n",
      "   paths_include = ['/Users/ploskon/devel/yasp/software/fastjet/3.4.0/include']\n",
      "   paths_lib = ['/Users/ploskon/devel/yasp/software/fastjet/3.4.0/lib']\n",
      "[i] cppyyhelper (4405887696)\n",
      "   loaded_packages = ['fastjet', 'heppyy']\n",
      "   loaded_libs = ['fastjet', 'LundPlane', 'EnergyCorrelator', 'heppyy_eec', 'heppyy_fjutil']\n",
      "   paths_include = ['/Users/ploskon/devel/yasp/software/fastjet/3.4.0/include', '/Users/ploskon/devel/yasp/software/heppyy/current/include']\n",
      "   paths_lib = ['/Users/ploskon/devel/yasp/software/fastjet/3.4.0/lib', '/Users/ploskon/devel/yasp/software/heppyy/current/lib']\n",
      "Welcome to JupyROOT 6.28/04\n"
     ]
    }
   ],
   "source": [
    "import numpy as np\n",
    "import array\n",
    "\n",
    "import heppyy.util.fastjet_cppyy\n",
    "import heppyy.util.heppyy_cppyy\n",
    "\n",
    "from cppyy.gbl import fastjet as fj\n",
    "from cppyy.gbl.std import vector\n",
    "\n",
    "import ROOT"
   ]
  },
  {
   "cell_type": "code",
   "execution_count": 3,
   "id": "19e91521-6e99-40c0-97fd-cf68b7f005b7",
   "metadata": {},
   "outputs": [],
   "source": [
    "pythia_config = [\n",
    "    'HardQCD:all = on',\n",
    "    'Next:numberCount = 0',\n",
    "    'Next:numberShowEvent = 0',\n",
    "    'Next:numberShowInfo = 0',\n",
    "    'Next:numberShowProcess = 0',\n",
    "    'PhaseSpace:pTHatMin = 100.00000'\n",
    "]\n",
    "\n",
    "stable_charm = False\n",
    "if stable_charm:\n",
    "\tfor c in [411,413,421,423,431,433]:\n",
    "\t\tpythia_config.append(f'{c}:mayDecay=false')\n",
    "\t\tpythia_config.append(f'-{c}:mayDecay=false')\n",
    "\n",
    "stable_beauty = False\n",
    "if stable_beauty:\n",
    "\tfor c in [511,513,521,523,531,533]:\n",
    "\t\tpythia_config.append(f'{c}:mayDecay=false')\n",
    "\t\tpythia_config.append(f'-{c}:mayDecay=false')\n"
   ]
  },
  {
   "cell_type": "code",
   "execution_count": 4,
   "id": "614cb4e1-d496-444c-aaaa-0044f242b3f0",
   "metadata": {},
   "outputs": [
    {
     "name": "stdout",
     "output_type": "stream",
     "text": [
      "[i] cppyyhelper (4405887696)\n",
      "   loaded_packages = ['fastjet', 'heppyy', 'pythia8']\n",
      "   loaded_libs = ['fastjet', 'LundPlane', 'EnergyCorrelator', 'heppyy_eec', 'heppyy_fjutil', 'pythia8']\n",
      "   paths_include = ['/Users/ploskon/devel/yasp/software/fastjet/3.4.0/include', '/Users/ploskon/devel/yasp/software/heppyy/current/include', '/Users/ploskon/devel/yasp/software/pythia8/8308/include']\n",
      "   paths_lib = ['/Users/ploskon/devel/yasp/software/fastjet/3.4.0/lib', '/Users/ploskon/devel/yasp/software/heppyy/current/lib', '/Users/ploskon/devel/yasp/software/pythia8/8308/lib']\n"
     ]
    }
   ],
   "source": [
    "import heppyy.util.pythia8_cppyy\n",
    "from cppyy.gbl import Pythia8"
   ]
  },
  {
   "cell_type": "code",
   "execution_count": 5,
   "id": "696c1598-29c0-4492-90ba-d92e8a796977",
   "metadata": {},
   "outputs": [
    {
     "name": "stdout",
     "output_type": "stream",
     "text": [
      "\n",
      " *------------------------------------------------------------------------------------* \n",
      " |                                                                                    | \n",
      " |  *------------------------------------------------------------------------------*  | \n",
      " |  |                                                                              |  | \n",
      " |  |                                                                              |  | \n",
      " |  |   PPP   Y   Y  TTTTT  H   H  III    A      Welcome to the Lund Monte Carlo!  |  | \n",
      " |  |   P  P   Y Y     T    H   H   I    A A     This is PYTHIA version 8.308      |  | \n",
      " |  |   PPP     Y      T    HHHHH   I   AAAAA    Last date of change: 16 Nov 2022  |  | \n",
      " |  |   P       Y      T    H   H   I   A   A                                      |  | \n",
      " |  |   P       Y      T    H   H  III  A   A    Now is 14 Nov 2023 at 00:29:22    |  | \n",
      " |  |                                                                              |  | \n",
      " |  |   Program documentation and an archive of historic versions is found on:     |  | \n",
      " |  |                                                                              |  | \n",
      " |  |                               https://pythia.org/                            |  | \n",
      " |  |                                                                              |  | \n",
      " |  |   PYTHIA is authored by a collaboration consisting of:                       |  | \n",
      " |  |                                                                              |  | \n",
      " |  |   Christian Bierlich, Nishita Desai, Leif Gellersen, Ilkka Helenius, Philip  |  | \n",
      " |  |   Ilten, Leif Lonnblad, Stephen Mrenna, Stefan Prestel, Christian Preuss,    |  | \n",
      " |  |   Torbjorn Sjostrand, Peter Skands, Marius Utheim and Rob Verheyen.          |  | \n",
      " |  |                                                                              |  | \n",
      " |  |   The complete list of authors, including contact information and            |  | \n",
      " |  |   affiliations, can be found on https://pythia.org/.                         |  | \n",
      " |  |   Problems or bugs should be reported on email at authors@pythia.org.        |  | \n",
      " |  |                                                                              |  | \n",
      " |  |   The main program reference is C. Bierlich et al,                           |  | \n",
      " |  |   'A comprehensive guide to the physics and usage of Pythia 8.3',            |  | \n",
      " |  |   SciPost Phys. Codebases 8-r8.3 (2022) [arXiv:2203.11601 [hep-ph]]          |  | \n",
      " |  |                                                                              |  | \n",
      " |  |   PYTHIA is released under the GNU General Public Licence version 2 or later.|  | \n",
      " |  |   Please respect the MCnet Guidelines for Event Generator Authors and Users. |  | \n",
      " |  |                                                                              |  | \n",
      " |  |   Disclaimer: this program comes without any guarantees.                     |  | \n",
      " |  |   Beware of errors and use common sense when interpreting results.           |  | \n",
      " |  |                                                                              |  | \n",
      " |  |   Copyright (C) 2022 Torbjorn Sjostrand                                      |  | \n",
      " |  |                                                                              |  | \n",
      " |  |                                                                              |  | \n",
      " |  *------------------------------------------------------------------------------*  | \n",
      " |                                                                                    | \n",
      " *------------------------------------------------------------------------------------* \n",
      "\n"
     ]
    }
   ],
   "source": [
    "pythia = Pythia8.Pythia()\n",
    "_ = [pythia.readString(s) for s in pythia_config]"
   ]
  },
  {
   "cell_type": "code",
   "execution_count": 6,
   "id": "d6a153c6-fb57-4b68-9f2c-006db25b1046",
   "metadata": {},
   "outputs": [
    {
     "data": {
      "text/plain": [
       "True"
      ]
     },
     "execution_count": 6,
     "metadata": {},
     "output_type": "execute_result"
    },
    {
     "name": "stdout",
     "output_type": "stream",
     "text": [
      "\n",
      " *-------  PYTHIA Process Initialization  --------------------------*\n",
      " |                                                                  |\n",
      " | We collide p+ with p+ at a CM energy of 1.400e+04 GeV            |\n",
      " |                                                                  |\n",
      " |------------------------------------------------------------------|\n",
      " |                                                    |             |\n",
      " | Subprocess                                    Code |   Estimated |\n",
      " |                                                    |    max (mb) |\n",
      " |                                                    |             |\n",
      " |------------------------------------------------------------------|\n",
      " |                                                    |             |\n",
      " | g g -> g g                                     111 |   5.045e-03 |\n",
      " | g g -> q qbar (uds)                            112 |   6.877e-05 |\n",
      " | q g -> q g                                     113 |   5.922e-03 |\n",
      " | q q(bar)' -> q q(bar)'                         114 |   8.180e-04 |\n",
      " | q qbar -> g g                                  115 |   6.361e-06 |\n",
      " | q qbar -> q' qbar' (uds)                       116 |   3.247e-06 |\n",
      " | g g -> c cbar                                  121 |   2.291e-05 |\n",
      " | q qbar -> c cbar                               122 |   1.082e-06 |\n",
      " | g g -> b bbar                                  123 |   2.281e-05 |\n",
      " | q qbar -> b bbar                               124 |   1.079e-06 |\n",
      " |                                                                  |\n",
      " *-------  End PYTHIA Process Initialization -----------------------*\n",
      "\n",
      " *-------  PYTHIA Multiparton Interactions Initialization  ---------* \n",
      " |                                                                  | \n",
      " |                   sigmaNonDiffractive =    57.17 mb              | \n",
      " |                                                                  | \n",
      " |    pT0 =  2.65 gives sigmaInteraction =   328.54 mb: accepted    | \n",
      " |                                                                  | \n",
      " *-------  End PYTHIA Multiparton Interactions Initialization  -----* \n",
      "\n",
      " *-------  PYTHIA Flag + Mode + Parm + Word + FVec + MVec + PVec + WVec Settings (changes only)  ------------------* \n",
      " |                                                                                                                 | \n",
      " | Name                                          |                      Now |      Default         Min         Max | \n",
      " |                                               |                          |                                      | \n",
      " | HardQCD:all                                   |                       on |          off                         | \n",
      " | Next:numberCount                              |                        0 |         1000           0             | \n",
      " | Next:numberShowEvent                          |                        0 |            1           0             | \n",
      " | Next:numberShowInfo                           |                        0 |            1           0             | \n",
      " | Next:numberShowProcess                        |                        0 |            1           0             | \n",
      " | PhaseSpace:pTHatMin                           |                100.00000 |          0.0         0.0             | \n",
      " |                                                                                                                 | \n",
      " *-------  End PYTHIA Flag + Mode + Parm + Word + FVec + MVec + PVec + WVec Settings  -----------------------------* \n",
      "\n",
      " --------  PYTHIA Particle Data Table (changed only)  ------------------------------------------------------------------------------\n",
      " \n",
      "      id   name            antiName         spn chg col      m0        mWidth      mMin       mMax       tau0    res dec ext vis wid\n",
      "             no onMode   bRatio   meMode     products \n",
      "\n",
      " no particle data has been changed from its default value \n",
      "\n",
      " --------  End PYTHIA Particle Data Table  -----------------------------------------------------------------------------------------\n",
      "\n"
     ]
    }
   ],
   "source": [
    "pythia.init()"
   ]
  },
  {
   "cell_type": "code",
   "execution_count": 7,
   "id": "622b21f4-f616-40bb-853f-351c2bc031f9",
   "metadata": {},
   "outputs": [],
   "source": [
    "jet_R0 = 0.4\n",
    "jet_etamax = 2.\n",
    "jet_ptmin = 100.\n",
    "jet_ptmax = 120.\n",
    "\n",
    "hadron_etamax = jet_etamax + jet_R0 * 1.05\n",
    "\n",
    "jet_def = fj.JetDefinition(fj.antikt_algorithm, jet_R0)\n",
    "jet_selector = fj.SelectorPtMin(jet_ptmin) * fj.SelectorPtMax(jet_ptmax) * fj.SelectorAbsEtaMax(hadron_etamax - jet_R0 * 1.05)\n",
    "jet_def_lund = fj.JetDefinition(fj.cambridge_algorithm, 1.0)\n",
    "\n",
    "h = ROOT.TH1F(\"rho\", \"rho;R;1/N_{jets} dN_{particles}/dR\", 10, 0, jet_R0) "
   ]
  },
  {
   "cell_type": "code",
   "execution_count": 8,
   "id": "ce90847f-7f5b-4a4e-aa2b-5959f93a965b",
   "metadata": {},
   "outputs": [
    {
     "data": {
      "application/vnd.jupyter.widget-view+json": {
       "model_id": "49a1b34e54254d58ac7f734938ace614",
       "version_major": 2,
       "version_minor": 0
      },
      "text/plain": [
       "  0%|          | 0/10000 [00:00<?, ?it/s]"
      ]
     },
     "metadata": {},
     "output_type": "display_data"
    },
    {
     "name": "stdout",
     "output_type": "stream",
     "text": [
      "#--------------------------------------------------------------------------\n",
      "#                         FastJet release 3.4.0\n",
      "#                 M. Cacciari, G.P. Salam and G. Soyez                  \n",
      "#     A software package for jet finding and analysis at colliders      \n",
      "#                           http://fastjet.fr                           \n",
      "#\t                                                                      \n",
      "# Please cite EPJC72(2012)1896 [arXiv:1111.6097] if you use this package\n",
      "# for scientific work and optionally PLB641(2006)57 [hep-ph/0512210].   \n",
      "#                                                                       \n",
      "# FastJet is provided without warranty under the GNU GPL v2 or higher.  \n",
      "# It uses T. Chan's closest pair algorithm, S. Fortune's Voronoi code\n",
      "# and 3rd party plugin jet algorithms. See COPYING file for details.\n",
      "#--------------------------------------------------------------------------\n",
      " PYTHIA Error in StringFragmentation::fragment: stuck in joining  \n",
      " PYTHIA Error in Pythia::next: hadronLevel failed; try again  \n",
      " PYTHIA Warning in StringFragmentation::fragmentToJunction: bad convergence junction rest frame  \n",
      " PYTHIA Error in StringFragmentation::fragmentToJunction: caught in junction flavour loop  \n",
      " PYTHIA Warning in Pythia::check: energy-momentum not quite conserved  \n",
      " PYTHIA Warning in MultipartonInteractions::pTnext: weight above unity  \n",
      " PYTHIA Warning in TauDecays::decay: unknown correlated tau production, assuming from unpolarized photon  \n",
      " PYTHIA Error in SimpleSpaceShower::pT2nearThreshold: stuck in loop  \n",
      " PYTHIA Warning in Pythia::check: not quite matched particle energy/momentum/mass  \n",
      " PYTHIA Warning in SimpleSpaceShower::pT2nextQCD: small daughter PDF  \n"
     ]
    }
   ],
   "source": [
    "nevents = 10000\n",
    "njets = 0\n",
    "from tqdm.notebook import tqdm\n",
    "for i in tqdm(range(nevents)):\n",
    "    if not pythia.next():\n",
    "        continue\n",
    "    # parts = vector[fj.PseudoJet]([fj.PseudoJet(p.px(), p.py(), p.pz(), p.e()) for p in pythia.event if p.isFinal() and p.isCharged()])\n",
    "    parts = vector[fj.PseudoJet]([fj.PseudoJet(p.px(), p.py(), p.pz(), p.e()) for p in pythia.event if p.isFinal()])\n",
    "    jets = fj.sorted_by_pt(jet_selector(jet_def(parts)))\n",
    "    for j in jets:\n",
    "        for c in j.constituents():\n",
    "            h.Fill(j.delta_R(c))\n",
    "    njets += len(jets)\n",
    "\n",
    "if njets > 0:\n",
    "    h.Scale(1./njets)"
   ]
  },
  {
   "cell_type": "code",
   "execution_count": 9,
   "id": "3de04e73-3335-4dc4-a43e-3d07080dee05",
   "metadata": {},
   "outputs": [],
   "source": [
    "%jsroot on"
   ]
  },
  {
   "cell_type": "code",
   "execution_count": 10,
   "id": "c91a787d-6bcf-4512-959e-cd9b5d35acff",
   "metadata": {},
   "outputs": [],
   "source": [
    "c = ROOT.TCanvas(\"rho\",\"rho\",800,600)\n",
    "h.Draw()"
   ]
  },
  {
   "cell_type": "code",
   "execution_count": 11,
   "id": "8ea17317-c996-44b6-aec6-437db7079fe3",
   "metadata": {},
   "outputs": [
    {
     "data": {
      "text/html": [
       "\n",
       "\n",
       "<div id=\"root_plot_1699950649576\"\n",
       "     style=\"width: 796px; height: 572px\">\n",
       "</div>\n",
       "<script>\n",
       "\n",
       "function display_root_plot_1699950649576(Core) {\n",
       "   let obj = Core.parse({\"_typename\":\"TCanvas\",\"fUniqueID\":0,\"fBits\":3342344,\"fLineColor\":1,\"fLineStyle\":1,\"fLineWidth\":1,\"fFillColor\":0,\"fFillStyle\":1001,\"fLeftMargin\":0.1,\"fRightMargin\":0.1,\"fBottomMargin\":0.1,\"fTopMargin\":0.1,\"fXfile\":2,\"fYfile\":2,\"fAfile\":1,\"fXstat\":0.99,\"fYstat\":0.99,\"fAstat\":2,\"fFrameFillColor\":0,\"fFrameLineColor\":1,\"fFrameFillStyle\":1001,\"fFrameLineStyle\":1,\"fFrameLineWidth\":1,\"fFrameBorderSize\":1,\"fFrameBorderMode\":0,\"fX1\":-0.0500000037252905,\"fY1\":0.935016178124031,\"fX2\":0.45000000372529,\"fY2\":5.11282516563073,\"fXtoAbsPixelk\":79.6000547445299,\"fXtoPixelk\":79.6000547445299,\"fXtoPixel\":1591.99997627735,\"fYtoAbsPixelk\":700.016734220436,\"fYtoPixelk\":700.016734220436,\"fYtoPixel\":-136.913870813746,\"fUtoAbsPixelk\":5e-5,\"fUtoPixelk\":5e-5,\"fUtoPixel\":796,\"fVtoAbsPixelk\":572.00005,\"fVtoPixelk\":572,\"fVtoPixel\":-572,\"fAbsPixeltoXk\":-0.0500000037252905,\"fPixeltoXk\":-0.0500000037252905,\"fPixeltoX\":6.28140712877614e-4,\"fAbsPixeltoYk\":5.11282516563073,\"fPixeltoYk\":0.935016178124031,\"fPixeltoY\":-0.00730386186627046,\"fXlowNDC\":0,\"fYlowNDC\":0,\"fXUpNDC\":1,\"fYUpNDC\":1,\"fWNDC\":1,\"fHNDC\":1,\"fAbsXlowNDC\":0,\"fAbsYlowNDC\":0,\"fAbsWNDC\":1,\"fAbsHNDC\":1,\"fUxmin\":0,\"fUymin\":1.35279710177638,\"fUxmax\":0.4,\"fUymax\":4.69504424197838,\"fTheta\":30,\"fPhi\":30,\"fAspectRatio\":0,\"fNumber\":0,\"fTickx\":0,\"fTicky\":0,\"fLogx\":0,\"fLogy\":0,\"fLogz\":0,\"fPadPaint\":0,\"fCrosshair\":0,\"fCrosshairPos\":0,\"fBorderSize\":2,\"fBorderMode\":0,\"fModified\":false,\"fGridx\":false,\"fGridy\":false,\"fAbsCoord\":false,\"fEditable\":true,\"fFixedAspectRatio\":false,\"fPrimitives\":{\"_typename\":\"TList\",\"name\":\"TList\",\"arr\":[{\"_typename\":\"TFrame\",\"fUniqueID\":0,\"fBits\":8,\"fLineColor\":1,\"fLineStyle\":1,\"fLineWidth\":1,\"fFillColor\":0,\"fFillStyle\":1001,\"fX1\":0,\"fY1\":1.35279710177638,\"fX2\":0.4,\"fY2\":4.69504424197838,\"fBorderSize\":1,\"fBorderMode\":0},{\"_typename\":\"TH1F\",\"fUniqueID\":0,\"fBits\":8,\"fName\":\"rho\",\"fTitle\":\"rho\",\"fLineColor\":602,\"fLineStyle\":1,\"fLineWidth\":1,\"fFillColor\":0,\"fFillStyle\":1001,\"fMarkerColor\":1,\"fMarkerStyle\":1,\"fMarkerSize\":1,\"fNcells\":12,\"fXaxis\":{\"_typename\":\"TAxis\",\"fUniqueID\":0,\"fBits\":0,\"fName\":\"xaxis\",\"fTitle\":\"R\",\"fNdivisions\":510,\"fAxisColor\":1,\"fLabelColor\":1,\"fLabelFont\":42,\"fLabelOffset\":0.005,\"fLabelSize\":0.035,\"fTickLength\":0.03,\"fTitleOffset\":1,\"fTitleSize\":0.035,\"fTitleColor\":1,\"fTitleFont\":42,\"fNbins\":10,\"fXmin\":0,\"fXmax\":0.4,\"fXbins\":[],\"fFirst\":0,\"fLast\":0,\"fBits2\":0,\"fTimeDisplay\":false,\"fTimeFormat\":\"\",\"fLabels\":null,\"fModLabs\":null},\"fYaxis\":{\"_typename\":\"TAxis\",\"fUniqueID\":0,\"fBits\":0,\"fName\":\"yaxis\",\"fTitle\":\"1\\/N_{jets} dN_{particles}\\/dR\",\"fNdivisions\":510,\"fAxisColor\":1,\"fLabelColor\":1,\"fLabelFont\":42,\"fLabelOffset\":0.005,\"fLabelSize\":0.035,\"fTickLength\":0.03,\"fTitleOffset\":0,\"fTitleSize\":0.035,\"fTitleColor\":1,\"fTitleFont\":42,\"fNbins\":1,\"fXmin\":0,\"fXmax\":1,\"fXbins\":[],\"fFirst\":0,\"fLast\":0,\"fBits2\":0,\"fTimeDisplay\":false,\"fTimeFormat\":\"\",\"fLabels\":null,\"fModLabs\":null},\"fZaxis\":{\"_typename\":\"TAxis\",\"fUniqueID\":0,\"fBits\":0,\"fName\":\"zaxis\",\"fTitle\":\"\",\"fNdivisions\":510,\"fAxisColor\":1,\"fLabelColor\":1,\"fLabelFont\":42,\"fLabelOffset\":0.005,\"fLabelSize\":0.035,\"fTickLength\":0.03,\"fTitleOffset\":1,\"fTitleSize\":0.035,\"fTitleColor\":1,\"fTitleFont\":42,\"fNbins\":1,\"fXmin\":0,\"fXmax\":1,\"fXbins\":[],\"fFirst\":0,\"fLast\":0,\"fBits2\":0,\"fTimeDisplay\":false,\"fTimeFormat\":\"\",\"fLabels\":null,\"fModLabs\":null},\"fBarOffset\":0,\"fBarWidth\":1000,\"fEntries\":94482,\"fTsumw\":26.3827229521946,\"fTsumw2\":0.00737565640262638,\"fTsumwx\":4.3008918019875,\"fTsumwx2\":1.02183979212159,\"fMaximum\":-1111,\"fMinimum\":-1111,\"fNormFactor\":0,\"fContour\":[],\"fSumw2\":{\"$arr\":\"Float64\",\"len\":12,\"p\":1,\"v\":[9.57097925279617e-4,0.00125815469550476,0.00102767276004423,8.35096466733031e-4,6.98010907289911e-4,6.22590402807237e-4,5.46622806582201e-4,5.02855467193292e-4,5.01214191966208e-4,4.26340779225895e-4,8.67531191458741e-6]},\"fOption\":\"\",\"fFunctions\":{\"_typename\":\"TList\",\"name\":\"TList\",\"arr\":[{\"_typename\":\"TPaveStats\",\"fUniqueID\":0,\"fBits\":9,\"fLineColor\":1,\"fLineStyle\":1,\"fLineWidth\":1,\"fFillColor\":0,\"fFillStyle\":1001,\"fX1\":0.34000001013279,\"fY1\":4.17281816834341,\"fX2\":0.440000013113022,\"fY2\":4.84126759140347,\"fX1NDC\":0.780000016093254,\"fY1NDC\":0.775000005960464,\"fX2NDC\":0.980000019073486,\"fY2NDC\":0.935000002384186,\"fBorderSize\":1,\"fInit\":1,\"fShadowColor\":1,\"fCornerRadius\":0,\"fOption\":\"brNDC\",\"fName\":\"stats\",\"fTextAngle\":0,\"fTextSize\":0,\"fTextAlign\":12,\"fTextColor\":1,\"fTextFont\":42,\"fLabel\":\"\",\"fLongest\":18,\"fMargin\":0.05,\"fLines\":{\"_typename\":\"TList\",\"name\":\"TList\",\"arr\":[{\"_typename\":\"TLatex\",\"fUniqueID\":0,\"fBits\":0,\"fName\":\"\",\"fTitle\":\"rho\",\"fTextAngle\":0,\"fTextSize\":0.0368,\"fTextAlign\":0,\"fTextColor\":0,\"fTextFont\":0,\"fX\":0,\"fY\":0,\"fLineColor\":1,\"fLineStyle\":1,\"fLineWidth\":2,\"fLimitFactorSize\":3,\"fOriginSize\":0.0368000008165836},{\"_typename\":\"TLatex\",\"fUniqueID\":0,\"fBits\":0,\"fName\":\"\",\"fTitle\":\"Entries = 94482  \",\"fTextAngle\":0,\"fTextSize\":0,\"fTextAlign\":0,\"fTextColor\":0,\"fTextFont\":0,\"fX\":0,\"fY\":0,\"fLineColor\":1,\"fLineStyle\":1,\"fLineWidth\":2,\"fLimitFactorSize\":3,\"fOriginSize\":0.04},{\"_typename\":\"TLatex\",\"fUniqueID\":0,\"fBits\":0,\"fName\":\"\",\"fTitle\":\"Mean  =  0.163\",\"fTextAngle\":0,\"fTextSize\":0,\"fTextAlign\":0,\"fTextColor\":0,\"fTextFont\":0,\"fX\":0,\"fY\":0,\"fLineColor\":1,\"fLineStyle\":1,\"fLineWidth\":2,\"fLimitFactorSize\":3,\"fOriginSize\":0.04},{\"_typename\":\"TLatex\",\"fUniqueID\":0,\"fBits\":0,\"fName\":\"\",\"fTitle\":\"Std Dev   = 0.1103\",\"fTextAngle\":0,\"fTextSize\":0,\"fTextAlign\":0,\"fTextColor\":0,\"fTextFont\":0,\"fX\":0,\"fY\":0,\"fLineColor\":1,\"fLineStyle\":1,\"fLineWidth\":2,\"fLimitFactorSize\":3,\"fOriginSize\":0.04}],\"opt\":[\"\",\"\",\"\",\"\"]},\"fOptFit\":0,\"fOptStat\":1111,\"fFitFormat\":\"5.4g\",\"fStatFormat\":\"6.4g\",\"fParent\":{\"$ref\":3}}],\"opt\":[\"brNDC\"]},\"fBufferSize\":0,\"fBuffer\":[],\"fBinStatErrOpt\":0,\"fStatOverflows\":2,\"fArray\":{\"$arr\":\"Float32\",\"len\":12,\"p\":1,\"v\":[3.423539,4.500419,3.675986,2.98714,2.496785,2.227006,1.95527,1.798714,1.792843,1.525021,0.03103159]}},{\"_typename\":\"TPaveText\",\"fUniqueID\":0,\"fBits\":9,\"fLineColor\":1,\"fLineStyle\":1,\"fLineWidth\":1,\"fFillColor\":0,\"fFillStyle\":0,\"fX1\":0.180552763529309,\"fY1\":4.86215664287769,\"fX2\":0.219447236470691,\"fY2\":5.09193614061454,\"fX1NDC\":0.461105527638191,\"fY1NDC\":0.940000003948808,\"fX2NDC\":0.538894472361809,\"fY2NDC\":0.995000004768372,\"fBorderSize\":0,\"fInit\":1,\"fShadowColor\":1,\"fCornerRadius\":0,\"fOption\":\"blNDC\",\"fName\":\"title\",\"fTextAngle\":0,\"fTextSize\":0,\"fTextAlign\":22,\"fTextColor\":1,\"fTextFont\":42,\"fLabel\":\"\",\"fLongest\":3,\"fMargin\":0.05,\"fLines\":{\"_typename\":\"TList\",\"name\":\"TList\",\"arr\":[{\"_typename\":\"TLatex\",\"fUniqueID\":0,\"fBits\":0,\"fName\":\"\",\"fTitle\":\"rho\",\"fTextAngle\":0,\"fTextSize\":0,\"fTextAlign\":0,\"fTextColor\":0,\"fTextFont\":0,\"fX\":0,\"fY\":0,\"fLineColor\":1,\"fLineStyle\":1,\"fLineWidth\":2,\"fLimitFactorSize\":3,\"fOriginSize\":0.0467500016093254}],\"opt\":[\"\"]}},{\"_typename\":\"TStyle\",\"fUniqueID\":0,\"fBits\":0,\"fName\":\"Modern\",\"fTitle\":\"Modern Style\",\"fLineColor\":1,\"fLineStyle\":1,\"fLineWidth\":1,\"fFillColor\":19,\"fFillStyle\":1001,\"fMarkerColor\":1,\"fMarkerStyle\":1,\"fMarkerSize\":1,\"fTextAngle\":0,\"fTextSize\":0.05,\"fTextAlign\":11,\"fTextColor\":1,\"fTextFont\":62,\"fXaxis\":{\"_typename\":\"TAttAxis\",\"fNdivisions\":510,\"fAxisColor\":1,\"fLabelColor\":1,\"fLabelFont\":42,\"fLabelOffset\":0.005,\"fLabelSize\":0.035,\"fTickLength\":0.03,\"fTitleOffset\":1,\"fTitleSize\":0.035,\"fTitleColor\":1,\"fTitleFont\":42},\"fYaxis\":{\"_typename\":\"TAttAxis\",\"fNdivisions\":510,\"fAxisColor\":1,\"fLabelColor\":1,\"fLabelFont\":42,\"fLabelOffset\":0.005,\"fLabelSize\":0.035,\"fTickLength\":0.03,\"fTitleOffset\":0,\"fTitleSize\":0.035,\"fTitleColor\":1,\"fTitleFont\":42},\"fZaxis\":{\"_typename\":\"TAttAxis\",\"fNdivisions\":510,\"fAxisColor\":1,\"fLabelColor\":1,\"fLabelFont\":42,\"fLabelOffset\":0.005,\"fLabelSize\":0.035,\"fTickLength\":0.03,\"fTitleOffset\":1,\"fTitleSize\":0.035,\"fTitleColor\":1,\"fTitleFont\":42},\"fBarWidth\":1,\"fBarOffset\":0,\"fColorModelPS\":0,\"fDrawBorder\":0,\"fOptLogx\":0,\"fOptLogy\":0,\"fOptLogz\":0,\"fOptDate\":0,\"fOptStat\":1111,\"fOptTitle\":1,\"fOptFile\":0,\"fOptFit\":0,\"fShowEventStatus\":0,\"fShowEditor\":0,\"fShowToolBar\":0,\"fNumberContours\":20,\"fAttDate\":{\"_typename\":\"TAttText\",\"fTextAngle\":0,\"fTextSize\":0.025,\"fTextAlign\":11,\"fTextColor\":1,\"fTextFont\":62},\"fDateX\":0.01,\"fDateY\":0.01,\"fEndErrorSize\":2,\"fErrorX\":0.5,\"fFuncColor\":2,\"fFuncStyle\":1,\"fFuncWidth\":2,\"fGridColor\":0,\"fGridStyle\":3,\"fGridWidth\":1,\"fLegendBorderSize\":1,\"fLegendFillColor\":0,\"fLegendFont\":42,\"fLegendTextSize\":0,\"fHatchesLineWidth\":1,\"fHatchesSpacing\":1,\"fFrameFillColor\":0,\"fFrameLineColor\":1,\"fFrameFillStyle\":1001,\"fFrameLineStyle\":1,\"fFrameLineWidth\":1,\"fFrameBorderSize\":1,\"fFrameBorderMode\":0,\"fHistFillColor\":0,\"fHistLineColor\":602,\"fHistFillStyle\":1001,\"fHistLineStyle\":1,\"fHistLineWidth\":1,\"fHistMinimumZero\":false,\"fHistTopMargin\":0.05,\"fCanvasPreferGL\":false,\"fCanvasColor\":0,\"fCanvasBorderSize\":2,\"fCanvasBorderMode\":0,\"fCanvasDefH\":500,\"fCanvasDefW\":700,\"fCanvasDefX\":10,\"fCanvasDefY\":10,\"fPadColor\":0,\"fPadBorderSize\":2,\"fPadBorderMode\":0,\"fPadBottomMargin\":0.1,\"fPadTopMargin\":0.1,\"fPadLeftMargin\":0.1,\"fPadRightMargin\":0.1,\"fPadGridX\":false,\"fPadGridY\":false,\"fPadTickX\":0,\"fPadTickY\":0,\"fPaperSizeX\":20,\"fPaperSizeY\":26,\"fScreenFactor\":1,\"fStatColor\":0,\"fStatTextColor\":1,\"fStatBorderSize\":1,\"fStatFont\":42,\"fStatFontSize\":0,\"fStatStyle\":1001,\"fStatFormat\":\"6.4g\",\"fStatX\":0.98,\"fStatY\":0.935,\"fStatW\":0.2,\"fStatH\":0.16,\"fStripDecimals\":true,\"fTitleAlign\":23,\"fTitleColor\":0,\"fTitleTextColor\":1,\"fTitleBorderSize\":0,\"fTitleFont\":42,\"fTitleFontSize\":0.05,\"fTitleStyle\":0,\"fTitleX\":0.5,\"fTitleY\":0.995,\"fTitleW\":0,\"fTitleH\":0,\"fLegoInnerR\":0.5,\"fLineStyles\":[\"\",\"  \",\" 12 12\",\" 4 8\",\" 12 16 4 16\",\" 20 12 4 12\",\" 20 12 4 12 4 12 4 12\",\" 20 20\",\" 20 12 4 12 4 12\",\" 80 20\",\" 80 40 4 40\",\"  \",\"  \",\"  \",\"  \",\"  \",\"  \",\"  \",\"  \",\"  \",\"  \",\"  \",\"  \",\"  \",\"  \",\"  \",\"  \",\"  \",\"  \",\"  \"],\"fHeaderPS\":\"\",\"fTitlePS\":\"\",\"fFitFormat\":\"5.4g\",\"fPaintTextFormat\":\"g\",\"fLineScalePS\":3,\"fJoinLinePS\":0,\"fCapLinePS\":0,\"fTimeOffset\":788918400,\"fImageScaling\":1}],\"opt\":[\"\",\"\",\"blNDC\",\"\"]},\"fExecs\":null,\"fName\":\"rho\",\"fTitle\":\"rho\",\"fNumPaletteColor\":0,\"fNextPaletteColor\":0,\"fDISPLAY\":\"$DISPLAY\",\"fDoubleBuffer\":0,\"fRetained\":true,\"fXsizeUser\":0,\"fYsizeUser\":0,\"fXsizeReal\":20,\"fYsizeReal\":15,\"fWindowTopX\":0,\"fWindowTopY\":0,\"fWindowWidth\":0,\"fWindowHeight\":0,\"fCw\":796,\"fCh\":572,\"fCatt\":{\"_typename\":\"TAttCanvas\",\"fXBetween\":2,\"fYBetween\":2,\"fTitleFromTop\":1.2,\"fXdate\":0.2,\"fYdate\":0.3,\"fAdate\":1},\"kMoveOpaque\":true,\"kResizeOpaque\":true,\"fHighLightColor\":2,\"fBatch\":true,\"kShowEventStatus\":false,\"kAutoExec\":true,\"kMenuBar\":true});\n",
       "   Core.settings.HandleKeys = false;\n",
       "   Core.draw(\"root_plot_1699950649576\", obj, \"\");\n",
       "}\n",
       "\n",
       "function script_load_root_plot_1699950649576(src, on_error) {\n",
       "    let script = document.createElement('script');\n",
       "    script.src = src;\n",
       "    script.onload = function() { display_root_plot_1699950649576(JSROOT); };\n",
       "    script.onerror = function() { script.remove(); on_error(); };\n",
       "    document.head.appendChild(script);\n",
       "}\n",
       "\n",
       "if (typeof requirejs !== 'undefined') {\n",
       "\n",
       "    // We are in jupyter notebooks, use require.js which should be configured already\n",
       "    requirejs.config({\n",
       "       paths: { 'JSRootCore' : [ 'build/jsroot', 'https://root.cern/js/7.2.1/build/jsroot', 'https://jsroot.gsi.de/7.2.1/build/jsroot' ] }\n",
       "    })(['JSRootCore'],  function(Core) {\n",
       "       display_root_plot_1699950649576(Core);\n",
       "    });\n",
       "\n",
       "} else if (typeof JSROOT !== 'undefined') {\n",
       "\n",
       "   // JSROOT already loaded, just use it\n",
       "   display_root_plot_1699950649576(JSROOT);\n",
       "\n",
       "} else {\n",
       "\n",
       "    // We are in jupyterlab without require.js, directly loading jsroot\n",
       "    // Jupyterlab might be installed in a different base_url so we need to know it.\n",
       "    try {\n",
       "        var base_url = JSON.parse(document.getElementById('jupyter-config-data').innerHTML).baseUrl;\n",
       "    } catch(_) {\n",
       "        var base_url = '/';\n",
       "    }\n",
       "\n",
       "    // Try loading a local version of requirejs and fallback to cdn if not possible.\n",
       "    script_load_root_plot_1699950649576(base_url + 'static/build/jsroot.js', function(){\n",
       "        console.error('Fail to load JSROOT locally, please check your jupyter_notebook_config.py file');\n",
       "        script_load_root_plot_1699950649576('https://root.cern/js/7.2.1/build/jsroot.js', function(){\n",
       "            document.getElementById(\"root_plot_1699950649576\").innerHTML = \"Failed to load JSROOT\";\n",
       "        });\n",
       "    });\n",
       "}\n",
       "\n",
       "</script>\n"
      ],
      "text/plain": [
       "<IPython.core.display.HTML object>"
      ]
     },
     "metadata": {},
     "output_type": "display_data"
    }
   ],
   "source": [
    "c.Draw()"
   ]
  },
  {
   "cell_type": "code",
   "execution_count": 12,
   "id": "93ce3070-e082-4296-842e-de2b796286f4",
   "metadata": {},
   "outputs": [
    {
     "name": "stdout",
     "output_type": "stream",
     "text": [
      "\n",
      " *-------  PYTHIA Event and Cross Section Statistics  -------------------------------------------------------------*\n",
      " |                                                                                                                 |\n",
      " | Subprocess                                    Code |            Number of events       |      sigma +- delta    |\n",
      " |                                                    |       Tried   Selected   Accepted |     (estimated) (mb)   |\n",
      " |                                                    |                                   |                        |\n",
      " |-----------------------------------------------------------------------------------------------------------------|\n",
      " |                                                    |                                   |                        |\n",
      " | g g -> g g                                     111 |       33893       4749       4749 |   7.215e-04  5.240e-06 |\n",
      " | g g -> q qbar (uds)                            112 |         478        117        117 |   1.564e-05  7.923e-07 |\n",
      " | q g -> q g                                     113 |       39996       4342       4342 |   6.561e-04  5.452e-06 |\n",
      " | q q(bar)' -> q q(bar)'                         114 |        5720        709        709 |   1.061e-04  2.086e-06 |\n",
      " | q qbar -> g g                                  115 |          49         13         13 |   1.669e-06  2.381e-07 |\n",
      " | q qbar -> q' qbar' (uds)                       116 |          16          4          4 |   8.497e-07  2.299e-07 |\n",
      " | g g -> c cbar                                  121 |         159         33         33 |   5.578e-06  4.488e-07 |\n",
      " | q qbar -> c cbar                               122 |           3          1          1 |   3.793e-07  3.793e-07 |\n",
      " | g g -> b bbar                                  123 |         161         28         28 |   4.605e-06  4.456e-07 |\n",
      " | q qbar -> b bbar                               124 |          10          4          4 |   3.713e-07  1.004e-07 |\n",
      " |                                                    |                                   |                        |\n",
      " | sum                                                |       80485      10000      10000 |   1.513e-03  7.926e-06 |\n",
      " |                                                                                                                 |\n",
      " *-------  End PYTHIA Event and Cross Section Statistics ----------------------------------------------------------*\n",
      "\n",
      " *-------  PYTHIA Error and Warning Messages Statistics  ----------------------------------------------------------* \n",
      " |                                                                                                                 | \n",
      " |  times   message                                                                                                | \n",
      " |                                                                                                                 | \n",
      " |     10   Error in Pythia::next: hadronLevel failed; try again                                                   | \n",
      " |      3   Error in SimpleSpaceShower::pT2nearThreshold: stuck in loop                                            | \n",
      " |      9   Error in StringFragmentation::fragment: stuck in joining                                               | \n",
      " |      1   Error in StringFragmentation::fragmentToJunction: caught in junction flavour loop                      | \n",
      " |      1   Warning in MultipartonInteractions::pTnext: weight above unity                                         | \n",
      " |      1   Warning in Pythia::check: energy-momentum not quite conserved                                          | \n",
      " |      2   Warning in Pythia::check: not quite matched particle energy/momentum/mass                              | \n",
      " |      1   Warning in SimpleSpaceShower::pT2nextQCD: small daughter PDF                                           | \n",
      " |     42   Warning in StringFragmentation::fragmentToJunction: bad convergence junction rest frame                | \n",
      " |      1   Warning in TauDecays::decay: unknown correlated tau production, assuming from unpolarized photon       | \n",
      " |                                                                                                                 | \n",
      " *-------  End PYTHIA Error and Warning Messages Statistics  ------------------------------------------------------* \n"
     ]
    }
   ],
   "source": [
    "pythia.stat()"
   ]
  },
  {
   "cell_type": "code",
   "execution_count": 13,
   "id": "fb87f234-cb7c-4d06-aa11-9f6287e60d6f",
   "metadata": {},
   "outputs": [],
   "source": [
    "%jsroot off"
   ]
  },
  {
   "cell_type": "code",
   "execution_count": 14,
   "id": "55342cc9-4a49-4b07-8beb-492fb60c3d3d",
   "metadata": {},
   "outputs": [
    {
     "data": {
      "image/png": "[encoded data removed]",
      "text/plain": [
       "<IPython.core.display.Image object>"
      ]
     },
     "metadata": {},
     "output_type": "display_data"
    }
   ],
   "source": [
    "c.Draw()"
   ]
  },
  {
   "cell_type": "code",
   "execution_count": null,
   "id": "8faf2b0e-a516-426b-8cec-1e3e98453179",
   "metadata": {},
   "outputs": [],
   "source": []
  }
 ],
 "metadata": {
  "kernelspec": {
   "display_name": "Python 3 (ipykernel)",
   "language": "python",
   "name": "python3"
  },
  "language_info": {
   "codemirror_mode": {
    "name": "ipython",
    "version": 3
   },
   "file_extension": ".py",
   "mimetype": "text/x-python",
   "name": "python",
   "nbconvert_exporter": "python",
   "pygments_lexer": "ipython3",
   "version": "3.11.5"
  }
 },
 "nbformat": 4,
 "nbformat_minor": 5
}
